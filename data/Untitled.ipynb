{
 "cells": [
  {
   "cell_type": "code",
   "execution_count": 2,
   "metadata": {},
   "outputs": [],
   "source": [
    "import pandas as pd\n",
    "import datetime as dt\n",
    "from datetime import date,time\n",
    "\n",
    "df = pd.read_csv('./villes_donnees.csv')"
   ]
  },
  {
   "cell_type": "code",
   "execution_count": 3,
   "metadata": {},
   "outputs": [
    {
     "data": {
      "text/plain": [
       "pandas.core.series.Series"
      ]
     },
     "execution_count": 3,
     "metadata": {},
     "output_type": "execute_result"
    }
   ],
   "source": [
    "df['date'] = pd.to_datetime(df.date)\n",
    "type(df['date'] )\n"
   ]
  },
  {
   "cell_type": "code",
   "execution_count": 128,
   "metadata": {},
   "outputs": [
    {
     "data": {
      "text/html": [
       "<div>\n",
       "<style scoped>\n",
       "    .dataframe tbody tr th:only-of-type {\n",
       "        vertical-align: middle;\n",
       "    }\n",
       "\n",
       "    .dataframe tbody tr th {\n",
       "        vertical-align: top;\n",
       "    }\n",
       "\n",
       "    .dataframe thead th {\n",
       "        text-align: right;\n",
       "    }\n",
       "</style>\n",
       "<table border=\"1\" class=\"dataframe\">\n",
       "  <thead>\n",
       "    <tr style=\"text-align: right;\">\n",
       "      <th></th>\n",
       "      <th>ville</th>\n",
       "      <th>date</th>\n",
       "      <th>temperature</th>\n",
       "      <th>humidite</th>\n",
       "      <th>vitessevent</th>\n",
       "    </tr>\n",
       "  </thead>\n",
       "  <tbody>\n",
       "    <tr>\n",
       "      <th>72</th>\n",
       "      <td>casa</td>\n",
       "      <td>2021-02-08 00:00:00</td>\n",
       "      <td>10.559119</td>\n",
       "      <td>86</td>\n",
       "      <td>16.039202</td>\n",
       "    </tr>\n",
       "    <tr>\n",
       "      <th>73</th>\n",
       "      <td>casa</td>\n",
       "      <td>2021-02-08 01:00:00</td>\n",
       "      <td>10.039120</td>\n",
       "      <td>90</td>\n",
       "      <td>17.317460</td>\n",
       "    </tr>\n",
       "    <tr>\n",
       "      <th>74</th>\n",
       "      <td>casa</td>\n",
       "      <td>2021-02-08 02:00:00</td>\n",
       "      <td>9.729119</td>\n",
       "      <td>91</td>\n",
       "      <td>18.391737</td>\n",
       "    </tr>\n",
       "    <tr>\n",
       "      <th>75</th>\n",
       "      <td>casa</td>\n",
       "      <td>2021-02-08 03:00:00</td>\n",
       "      <td>9.619120</td>\n",
       "      <td>91</td>\n",
       "      <td>19.513195</td>\n",
       "    </tr>\n",
       "    <tr>\n",
       "      <th>76</th>\n",
       "      <td>casa</td>\n",
       "      <td>2021-02-08 04:00:00</td>\n",
       "      <td>9.469119</td>\n",
       "      <td>93</td>\n",
       "      <td>21.889065</td>\n",
       "    </tr>\n",
       "    <tr>\n",
       "      <th>...</th>\n",
       "      <td>...</td>\n",
       "      <td>...</td>\n",
       "      <td>...</td>\n",
       "      <td>...</td>\n",
       "      <td>...</td>\n",
       "    </tr>\n",
       "    <tr>\n",
       "      <th>187</th>\n",
       "      <td>casa</td>\n",
       "      <td>2021-02-12 19:00:00</td>\n",
       "      <td>14.009120</td>\n",
       "      <td>92</td>\n",
       "      <td>20.421871</td>\n",
       "    </tr>\n",
       "    <tr>\n",
       "      <th>188</th>\n",
       "      <td>casa</td>\n",
       "      <td>2021-02-12 20:00:00</td>\n",
       "      <td>13.579120</td>\n",
       "      <td>94</td>\n",
       "      <td>19.171478</td>\n",
       "    </tr>\n",
       "    <tr>\n",
       "      <th>189</th>\n",
       "      <td>casa</td>\n",
       "      <td>2021-02-12 21:00:00</td>\n",
       "      <td>13.589120</td>\n",
       "      <td>94</td>\n",
       "      <td>18.584510</td>\n",
       "    </tr>\n",
       "    <tr>\n",
       "      <th>190</th>\n",
       "      <td>casa</td>\n",
       "      <td>2021-02-12 22:00:00</td>\n",
       "      <td>13.619120</td>\n",
       "      <td>95</td>\n",
       "      <td>18.398780</td>\n",
       "    </tr>\n",
       "    <tr>\n",
       "      <th>191</th>\n",
       "      <td>casa</td>\n",
       "      <td>2021-02-12 23:00:00</td>\n",
       "      <td>13.259120</td>\n",
       "      <td>95</td>\n",
       "      <td>17.873556</td>\n",
       "    </tr>\n",
       "  </tbody>\n",
       "</table>\n",
       "<p>120 rows × 5 columns</p>\n",
       "</div>"
      ],
      "text/plain": [
       "    ville                date  temperature  humidite  vitessevent\n",
       "72   casa 2021-02-08 00:00:00    10.559119        86    16.039202\n",
       "73   casa 2021-02-08 01:00:00    10.039120        90    17.317460\n",
       "74   casa 2021-02-08 02:00:00     9.729119        91    18.391737\n",
       "75   casa 2021-02-08 03:00:00     9.619120        91    19.513195\n",
       "76   casa 2021-02-08 04:00:00     9.469119        93    21.889065\n",
       "..    ...                 ...          ...       ...          ...\n",
       "187  casa 2021-02-12 19:00:00    14.009120        92    20.421871\n",
       "188  casa 2021-02-12 20:00:00    13.579120        94    19.171478\n",
       "189  casa 2021-02-12 21:00:00    13.589120        94    18.584510\n",
       "190  casa 2021-02-12 22:00:00    13.619120        95    18.398780\n",
       "191  casa 2021-02-12 23:00:00    13.259120        95    17.873556\n",
       "\n",
       "[120 rows x 5 columns]"
      ]
     },
     "execution_count": 128,
     "metadata": {},
     "output_type": "execute_result"
    }
   ],
   "source": [
    "\n",
    "start_date = dt.datetime.combine(date(2021, 2, 8), time(0,0,0))\n",
    "end_date   = dt.datetime.combine(date(2021, 2, 12), time(23,0,0))\n",
    "\n",
    "after_start_date = df['date'] >= start_date\n",
    "before_end_date = df['date'] <= end_date\n",
    "between_two_dates = after_start_date & before_end_date\n",
    "filtered_dates = df.loc[between_two_dates]\n",
    "\n",
    "filtered_dates[filtered_dates.ville=='casa']\n"
   ]
  },
  {
   "cell_type": "code",
   "execution_count": 130,
   "metadata": {},
   "outputs": [
    {
     "name": "stdout",
     "output_type": "stream",
     "text": [
      "<class 'datetime.date'>\n"
     ]
    }
   ],
   "source": [
    "\n",
    "dateDefaut = (date(2021, 2, 8), date(2021, 2, 12))\n",
    "print(type(dateDefaut[1]))"
   ]
  },
  {
   "cell_type": "code",
   "execution_count": 89,
   "metadata": {},
   "outputs": [
    {
     "name": "stdout",
     "output_type": "stream",
     "text": [
      "2021-02-08\n"
     ]
    }
   ],
   "source": [
    "x = dt.datetime(2020, 5, 17,,0,0)\n",
    "\n",
    "print(x)"
   ]
  },
  {
   "cell_type": "code",
   "execution_count": 4,
   "metadata": {},
   "outputs": [
    {
     "data": {
      "text/plain": [
       "('2021-02-08 00:00:00', '2021-02-12 23:00:00')"
      ]
     },
     "execution_count": 4,
     "metadata": {},
     "output_type": "execute_result"
    }
   ],
   "source": [
    "\n",
    "dateDefaut = (date(2021, 2, 8), date(2021, 2, 12))\n",
    "t=(str(dt.datetime.combine(dateDefaut[0], time(0,0,0))),str(dt.datetime.combine(dateDefaut[1], time(23,0,0))))\n",
    "t\n"
   ]
  },
  {
   "cell_type": "code",
   "execution_count": 11,
   "metadata": {},
   "outputs": [
    {
     "name": "stdout",
     "output_type": "stream",
     "text": [
      "<class 'datetime.datetime'>\n"
     ]
    }
   ],
   "source": [
    "d=dt.datetime.strptime(t[1], '%Y-%m-%d %H:%M:%S')\n",
    "print(type(d))\n"
   ]
  }
 ],
 "metadata": {
  "kernelspec": {
   "display_name": "Python 3",
   "language": "python",
   "name": "python3"
  },
  "language_info": {
   "codemirror_mode": {
    "name": "ipython",
    "version": 3
   },
   "file_extension": ".py",
   "mimetype": "text/x-python",
   "name": "python",
   "nbconvert_exporter": "python",
   "pygments_lexer": "ipython3",
   "version": "3.8.5"
  }
 },
 "nbformat": 4,
 "nbformat_minor": 4
}
